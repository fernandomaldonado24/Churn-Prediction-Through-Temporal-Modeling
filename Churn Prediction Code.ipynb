{
 "cells": [
  {
   "cell_type": "markdown",
   "metadata": {
    "application/vnd.databricks.v1+cell": {
     "cellMetadata": {
      "byteLimit": 2048000,
      "rowLimit": 10000
     },
     "inputWidgets": {},
     "nuid": "23d63d54-6e07-4e7f-b168-06976da75c47",
     "showTitle": false,
     "tableResultSettingsMap": {},
     "title": ""
    }
   },
   "source": [
    "#### Instaling Libraries"
   ]
  },
  {
   "cell_type": "code",
   "execution_count": 0,
   "metadata": {
    "application/vnd.databricks.v1+cell": {
     "cellMetadata": {
      "byteLimit": 2048000,
      "rowLimit": 10000
     },
     "inputWidgets": {},
     "nuid": "ef0b8bfd-d6f8-459d-89a5-f634c0da1263",
     "showTitle": false,
     "tableResultSettingsMap": {},
     "title": ""
    }
   },
   "outputs": [
    {
     "output_type": "stream",
     "name": "stdout",
     "output_type": "stream",
     "text": [
      "Python interpreter will be restarted.\nRequirement already satisfied: shap in /local_disk0/.ephemeral_nfs/envs/pythonEnv-c59c0563-f70d-4c49-ad6f-151c9f374270/lib/python3.9/site-packages (0.47.2)\nRequirement already satisfied: pandas in /databricks/python3/lib/python3.9/site-packages (from shap) (1.4.2)\nRequirement already satisfied: tqdm>=4.27.0 in /local_disk0/.ephemeral_nfs/envs/pythonEnv-c59c0563-f70d-4c49-ad6f-151c9f374270/lib/python3.9/site-packages (from shap) (4.67.1)\nRequirement already satisfied: slicer==0.0.8 in /local_disk0/.ephemeral_nfs/envs/pythonEnv-c59c0563-f70d-4c49-ad6f-151c9f374270/lib/python3.9/site-packages (from shap) (0.0.8)\nRequirement already satisfied: cloudpickle in /local_disk0/.ephemeral_nfs/envs/pythonEnv-c59c0563-f70d-4c49-ad6f-151c9f374270/lib/python3.9/site-packages (from shap) (3.1.1)\nRequirement already satisfied: packaging>20.9 in /databricks/python3/lib/python3.9/site-packages (from shap) (21.3)\nRequirement already satisfied: typing-extensions in /databricks/python3/lib/python3.9/site-packages (from shap) (4.1.1)\nRequirement already satisfied: numba>=0.54 in /local_disk0/.ephemeral_nfs/envs/pythonEnv-c59c0563-f70d-4c49-ad6f-151c9f374270/lib/python3.9/site-packages (from shap) (0.60.0)\nRequirement already satisfied: scipy in /databricks/python3/lib/python3.9/site-packages (from shap) (1.7.3)\nRequirement already satisfied: scikit-learn in /databricks/python3/lib/python3.9/site-packages (from shap) (1.0.2)\nRequirement already satisfied: numpy in /local_disk0/.ephemeral_nfs/envs/pythonEnv-c59c0563-f70d-4c49-ad6f-151c9f374270/lib/python3.9/site-packages (from shap) (1.22.4)\nRequirement already satisfied: llvmlite<0.44,>=0.43.0dev0 in /local_disk0/.ephemeral_nfs/envs/pythonEnv-c59c0563-f70d-4c49-ad6f-151c9f374270/lib/python3.9/site-packages (from numba>=0.54->shap) (0.43.0)\nRequirement already satisfied: pyparsing!=3.0.5,>=2.0.2 in /databricks/python3/lib/python3.9/site-packages (from packaging>20.9->shap) (3.0.4)\nRequirement already satisfied: python-dateutil>=2.8.1 in /databricks/python3/lib/python3.9/site-packages (from pandas->shap) (2.8.2)\nRequirement already satisfied: pytz>=2020.1 in /databricks/python3/lib/python3.9/site-packages (from pandas->shap) (2021.3)\nRequirement already satisfied: six>=1.5 in /databricks/python3/lib/python3.9/site-packages (from python-dateutil>=2.8.1->pandas->shap) (1.16.0)\nRequirement already satisfied: joblib>=0.11 in /databricks/python3/lib/python3.9/site-packages (from scikit-learn->shap) (1.1.1)\nRequirement already satisfied: threadpoolctl>=2.0.0 in /databricks/python3/lib/python3.9/site-packages (from scikit-learn->shap) (2.2.0)\nPython interpreter will be restarted.\nPython interpreter will be restarted.\nRequirement already satisfied: xgboost in /local_disk0/.ephemeral_nfs/envs/pythonEnv-c59c0563-f70d-4c49-ad6f-151c9f374270/lib/python3.9/site-packages (2.1.4)\nRequirement already satisfied: nvidia-nccl-cu12 in /local_disk0/.ephemeral_nfs/envs/pythonEnv-c59c0563-f70d-4c49-ad6f-151c9f374270/lib/python3.9/site-packages (from xgboost) (2.26.5)\nRequirement already satisfied: scipy in /databricks/python3/lib/python3.9/site-packages (from xgboost) (1.7.3)\nRequirement already satisfied: numpy in /local_disk0/.ephemeral_nfs/envs/pythonEnv-c59c0563-f70d-4c49-ad6f-151c9f374270/lib/python3.9/site-packages (from xgboost) (1.22.4)\nPython interpreter will be restarted.\n"
     ]
    }
   ],
   "source": [
    "%python\n",
    "%pip install shap\n",
    "%pip install xgboost"
   ]
  },
  {
   "cell_type": "markdown",
   "metadata": {
    "application/vnd.databricks.v1+cell": {
     "cellMetadata": {
      "byteLimit": 2048000,
      "rowLimit": 10000
     },
     "inputWidgets": {},
     "nuid": "2e1d5ac8-3973-4e82-b3f8-584f39a354b0",
     "showTitle": false,
     "tableResultSettingsMap": {},
     "title": ""
    }
   },
   "source": [
    "#### Importing Libraries"
   ]
  },
  {
   "cell_type": "code",
   "execution_count": 0,
   "metadata": {
    "application/vnd.databricks.v1+cell": {
     "cellMetadata": {
      "byteLimit": 2048000,
      "rowLimit": 10000
     },
     "inputWidgets": {},
     "nuid": "1b135182-5c9b-4e71-996a-a4acae43bbb6",
     "showTitle": false,
     "tableResultSettingsMap": {},
     "title": ""
    }
   },
   "outputs": [
    {
     "output_type": "display_data",
     "data": {
      "application/vnd.databricks.v1+bamboolib_hint": "{\"pd.DataFrames\": [], \"version\": \"0.0.1\"}",
      "text/plain": []
     },
     "metadata": {},
     "output_type": "display_data"
    }
   ],
   "source": [
    "%python\n",
    "import matplotlib.pyplot as plt\n",
    "import numpy as np\n",
    "import pandas as pd\n",
    "import urllib\n",
    "import seaborn as sns\n",
    "import shap\n",
    "import xgboost as xgb\n",
    "from itertools import product # To perform all possible combinations bewteen parameters\n",
    "from sklearn.linear_model import LogisticRegression\n",
    "from sklearn.ensemble import RandomForestClassifier\n",
    "from sklearn.preprocessing import StandardScaler\n",
    "from sklearn.metrics import roc_auc_score, recall_score, roc_curve\n",
    "from datetime import datetime, timedelta\n",
    "reset = True"
   ]
  },
  {
   "cell_type": "markdown",
   "metadata": {
    "application/vnd.databricks.v1+cell": {
     "cellMetadata": {
      "byteLimit": 2048000,
      "rowLimit": 10000
     },
     "inputWidgets": {},
     "nuid": "ed58523f-4e78-4ece-9beb-ce9a9799734f",
     "showTitle": false,
     "tableResultSettingsMap": {},
     "title": ""
    }
   },
   "source": [
    "#### Loading Datasets"
   ]
  },
  {
   "cell_type": "code",
   "execution_count": 0,
   "metadata": {
    "application/vnd.databricks.v1+cell": {
     "cellMetadata": {
      "byteLimit": 2048000,
      "rowLimit": 10000
     },
     "inputWidgets": {},
     "nuid": "3e754fd5-c21c-4756-bdd1-05a010270573",
     "showTitle": false,
     "tableResultSettingsMap": {},
     "title": ""
    }
   },
   "outputs": [
    {
     "output_type": "stream",
     "name": "stdout",
     "output_type": "stream",
     "text": [
      "Initaializing ml79 database.... on first run this will take a couple of minutes.\nLoaded table: customers\nRemoving: customers\nLoaded table: products\nRemoving: products\nLoaded table: receipt_lines\nRemoving: receipt_lines\nLoaded table: receipts\nRemoving: receipts\nLoaded table: stores\nRemoving: stores\nDone.\n\nYour individual report for this dataset can be downloaded by clicking the link / copying the URL into a browser:\n"
     ]
    },
    {
     "output_type": "stream",
     "name": "stderr",
     "output_type": "stream",
     "text": [
      "<string>:116: DeprecationWarning: Importing display from IPython.core.display is deprecated since IPython 7.14, please import from IPython display\n"
     ]
    },
    {
     "output_type": "display_data",
     "data": {
      "text/html": [
       "<a href=\"https://community.cloud.databricks.com/files/ConsultingCorp_Report_ml79.pdf?o=2518561049428644\" target=\"_blank\">https://community.cloud.databricks.com/files/ConsultingCorp_Report_ml79.pdf?o=2518561049428644</a>"
      ]
     },
     "metadata": {
      "application/vnd.databricks.v1+output": {
       "addedWidgets": {},
       "arguments": {},
       "data": "<a href=\"https://community.cloud.databricks.com/files/ConsultingCorp_Report_ml79.pdf?o=2518561049428644\" target=\"_blank\">https://community.cloud.databricks.com/files/ConsultingCorp_Report_ml79.pdf?o=2518561049428644</a>",
       "datasetInfos": [],
       "metadata": {},
       "removedWidgets": [],
       "textData": null,
       "type": "htmlSandbox"
      }
     },
     "output_type": "display_data"
    },
    {
     "output_type": "stream",
     "name": "stdout",
     "output_type": "stream",
     "text": [
      "All tables from your dataset as listed below. Tables are linked with one-to-many relationships when the field names are the same. Use the SQL:\nSHOW TABLES\nto list all tables, including those you have generated.\n┏━━━━━━━━━━━━━┓\n┃ customers   ┃\n┣━━━━━━━━━━━━━┫\n┃ customer_id ┃\n┃ first       ┃\n┃ last        ┃\n┃ dob         ┃\n┗━━━━━━━━━━━━━┛\n┏━━━━━━━━━━━━━━━━━━━━━━┓\n┃ products             ┃\n┣━━━━━━━━━━━━━━━━━━━━━━┫\n┃ product_code         ┃\n┃ product_details      ┃\n┃ department_code      ┃\n┃ department_name      ┃\n┃ category_code        ┃\n┃ category_details     ┃\n┃ sub_category_code    ┃\n┃ sub_category_details ┃\n┗━━━━━━━━━━━━━━━━━━━━━━┛\n┏━━━━━━━━━━━━━━━━━┓\n┃ receipt_lines   ┃\n┣━━━━━━━━━━━━━━━━━┫\n┃ receipt_line_id ┃\n┃ receipt_id      ┃\n┃ product_code    ┃\n┃ qty             ┃\n┃ value           ┃\n┗━━━━━━━━━━━━━━━━━┛\n┏━━━━━━━━━━━━━━┓\n┃ receipts     ┃\n┣━━━━━━━━━━━━━━┫\n┃ receipt_id   ┃\n┃ purchased_at ┃\n┃ customer_id  ┃\n┃ store_code   ┃\n┃ till_number  ┃\n┗━━━━━━━━━━━━━━┛\n┏━━━━━━━━━━━━┓\n┃ stores     ┃\n┣━━━━━━━━━━━━┫\n┃ store_code ┃\n┃ address    ┃\n┃ postcode   ┃\n┃ lat        ┃\n┃ lng        ┃\n┗━━━━━━━━━━━━┛\n"
     ]
    }
   ],
   "source": [
    "%python\n",
    "data_id = 79\n",
    "exec(urllib.request.urlopen('https://drive.google.com/uc?export=download&id=151MlxWk3Nk-Q3emLDyOFRxPA8lCqgGt-').read())"
   ]
  },
  {
   "cell_type": "markdown",
   "metadata": {
    "application/vnd.databricks.v1+cell": {
     "cellMetadata": {
      "byteLimit": 2048000,
      "rowLimit": 10000
     },
     "inputWidgets": {},
     "nuid": "1d193964-4a4e-4f5b-b3c2-04fd841aa24c",
     "showTitle": false,
     "tableResultSettingsMap": {},
     "title": ""
    }
   },
   "source": [
    "### EDA & Data Cleaning"
   ]
  },
  {
   "cell_type": "code",
   "execution_count": 0,
   "metadata": {
    "application/vnd.databricks.v1+cell": {
     "cellMetadata": {
      "byteLimit": 2048000,
      "implicitDf": true,
      "rowLimit": 10000
     },
     "inputWidgets": {},
     "nuid": "e892121f-d351-470b-837c-3bcc79de4cf2",
     "showTitle": false,
     "tableResultSettingsMap": {},
     "title": ""
    }
   },
   "outputs": [
    {
     "output_type": "stream",
     "name": "stdout",
     "output_type": "stream",
     "text": [
      "DataFrame[qty: int, value: double, product_details: string]"
     ]
    }
   ],
   "source": [
    "%sql\n",
    "--- Negative values\n",
    "SELECT qty, value, product_details\n",
    "FROM receipt_lines\n",
    "JOIN products\n",
    "USING (product_code)\n",
    "WHERE value < 0"
   ]
  },
  {
   "cell_type": "code",
   "execution_count": 0,
   "metadata": {
    "application/vnd.databricks.v1+cell": {
     "cellMetadata": {
      "byteLimit": 2048000,
      "implicitDf": true,
      "rowLimit": 10000
     },
     "inputWidgets": {},
     "nuid": "f57e53de-2468-42c2-b5a4-a2caf71b0d28",
     "showTitle": false,
     "tableResultSettingsMap": {},
     "title": ""
    }
   },
   "outputs": [
    {
     "output_type": "stream",
     "name": "stdout",
     "output_type": "stream",
     "text": [
      "DataFrame[qty: int, product_details: string, value: double]"
     ]
    }
   ],
   "source": [
    "%sql\n",
    "--- Outliers\n",
    "SELECT qty, product_details, value\n",
    "FROM receipt_lines\n",
    "JOIN products\n",
    "USING (product_code)\n",
    "ORDER BY 3 DESC\n",
    "LIMIT 10"
   ]
  },
  {
   "cell_type": "code",
   "execution_count": 0,
   "metadata": {
    "application/vnd.databricks.v1+cell": {
     "cellMetadata": {
      "byteLimit": 2048000,
      "implicitDf": true,
      "rowLimit": 10000
     },
     "inputWidgets": {},
     "nuid": "a6e1a89b-a53f-403c-baa0-390e8dfd189f",
     "showTitle": false,
     "tableResultSettingsMap": {},
     "title": ""
    }
   },
   "outputs": [
    {
     "output_type": "stream",
     "name": "stdout",
     "output_type": "stream",
     "text": [
      "DataFrame[avg_outliers: double]"
     ]
    }
   ],
   "source": [
    "%sql\n",
    "--- Mean values of products with outliers\n",
    "SELECT AVG(avg_value) avg_outliers\n",
    "FROM\n",
    "  (SELECT product_details, AVG(value) avg_value\n",
    "  FROM receipt_lines\n",
    "  JOIN products\n",
    "  USING (product_code)\n",
    "  WHERE (product_details = 'RIZLA REGULAR RE' OR product_details = 'PAY POINT EACH' OR product_details = 'BENSON AND HEDGE' OR product_details = 'PAY POINT POWERC' OR product_details = 'HOME BRAND ORANGE JUI' OR product_details = 'DRUM HAND ROLLIN') AND value < 1000\n",
    "  GROUP BY product_details)"
   ]
  },
  {
   "cell_type": "code",
   "execution_count": 0,
   "metadata": {
    "application/vnd.databricks.v1+cell": {
     "cellMetadata": {
      "byteLimit": 2048000,
      "implicitDf": true,
      "rowLimit": 10000
     },
     "inputWidgets": {},
     "nuid": "47b4f86e-f0a1-4c5a-8937-16114c7edffe",
     "showTitle": false,
     "tableResultSettingsMap": {},
     "title": ""
    }
   },
   "outputs": [
    {
     "output_type": "stream",
     "name": "stdout",
     "output_type": "stream",
     "text": [
      "DataFrame[num_affected_rows: bigint]"
     ]
    }
   ],
   "source": [
    "%sql\n",
    "---  Negative transaction values were converted to positive to reflect valid customer visits through prize collections or refunds. Outlier values were replaced with the average product value (excluding outliers) to correct anomalies. Both adjustments were made to preserve visit information, given their minimal presence and the importance of accurately capturing customer activity for churn prediction.\n",
    "UPDATE receipt_lines\n",
    "SET value = \n",
    "  CASE \n",
    "    WHEN value < 0 THEN ABS(value)\n",
    "    WHEN value > 1000 THEN 7.3\n",
    "    ELSE value\n",
    "  END\n",
    "WHERE value < 0 OR value > 500"
   ]
  },
  {
   "cell_type": "markdown",
   "metadata": {
    "application/vnd.databricks.v1+cell": {
     "cellMetadata": {
      "byteLimit": 2048000,
      "rowLimit": 10000
     },
     "inputWidgets": {},
     "nuid": "d151a8fe-7a9e-45a3-adc1-d9d181e9691a",
     "showTitle": false,
     "tableResultSettingsMap": {},
     "title": ""
    }
   },
   "source": [
    "Customers who visited just once"
   ]
  },
  {
   "cell_type": "code",
   "execution_count": 0,
   "metadata": {
    "application/vnd.databricks.v1+cell": {
     "cellMetadata": {
      "byteLimit": 2048000,
      "implicitDf": true,
      "rowLimit": 10000
     },
     "inputWidgets": {},
     "nuid": "cd7ad18c-c165-4918-84c6-0e7a3c784765",
     "showTitle": false,
     "tableResultSettingsMap": {},
     "title": ""
    }
   },
   "outputs": [
    {
     "output_type": "stream",
     "name": "stdout",
     "output_type": "stream",
     "text": [
      "DataFrame[count(DISTINCT customer_id): bigint]"
     ]
    }
   ],
   "source": [
    "%sql\n",
    "SELECT COUNT(DISTINCT customer_id) FROM receipts"
   ]
  },
  {
   "cell_type": "code",
   "execution_count": 0,
   "metadata": {
    "application/vnd.databricks.v1+cell": {
     "cellMetadata": {
      "byteLimit": 2048000,
      "implicitDf": true,
      "rowLimit": 10000
     },
     "inputWidgets": {},
     "nuid": "750ba0d3-93b3-4191-955e-c79a0237349a",
     "showTitle": false,
     "tableResultSettingsMap": {},
     "title": ""
    }
   },
   "outputs": [
    {
     "output_type": "stream",
     "name": "stdout",
     "output_type": "stream",
     "text": [
      "DataFrame[visit_interval: string, customer_count: bigint]"
     ]
    }
   ],
   "source": [
    "%sql\n",
    "WITH visits_per_customer AS (\n",
    "  SELECT\n",
    "    a.customer_id,\n",
    "    COUNT(*) AS total_visits\n",
    "  FROM (SELECT DISTINCT customer_id, purchased_at FROM receipts) a\n",
    "  GROUP BY customer_id\n",
    "),\n",
    "\n",
    "-- Grouping customers by number of visits\n",
    "visit_intervals AS (\n",
    "  SELECT\n",
    "    CASE\n",
    "      WHEN total_visits = 1 THEN '1 visit'\n",
    "      ELSE 'More than 1 visit'\n",
    "    END AS visit_interval,\n",
    "    COUNT(*) AS customer_count\n",
    "  FROM visits_per_customer\n",
    "  GROUP BY\n",
    "    CASE\n",
    "      WHEN total_visits = 1 THEN '1 visit'\n",
    "      ELSE 'More than 1 visit'\n",
    "    END\n",
    ")\n",
    "\n",
    "-- Showing Table\n",
    "SELECT * FROM visit_intervals;"
   ]
  },
  {
   "cell_type": "markdown",
   "metadata": {
    "application/vnd.databricks.v1+cell": {
     "cellMetadata": {
      "byteLimit": 2048000,
      "rowLimit": 10000
     },
     "inputWidgets": {},
     "nuid": "d986172a-4d02-4b33-8e4d-6799241d11f5",
     "showTitle": false,
     "tableResultSettingsMap": {},
     "title": ""
    }
   },
   "source": [
    "#### Average visits per month\n",
    "To calculate the average number of visits per month per customer, clients who made only one purchase throughout the entire period are excluded. This metric is then used to define intervals for analyzing the distribution of monthly buying frequency."
   ]
  },
  {
   "cell_type": "code",
   "execution_count": 0,
   "metadata": {
    "application/vnd.databricks.v1+cell": {
     "cellMetadata": {
      "byteLimit": 2048000,
      "implicitDf": true,
      "rowLimit": 10000
     },
     "inputWidgets": {},
     "nuid": "f297a617-8983-480c-ba46-ae41d6f4602e",
     "showTitle": false,
     "tableResultSettingsMap": {},
     "title": ""
    }
   },
   "outputs": [
    {
     "output_type": "stream",
     "name": "stdout",
     "output_type": "stream",
     "text": [
      "DataFrame[]"
     ]
    }
   ],
   "source": [
    "%sql\n",
    "CREATE OR REPLACE TEMP VIEW monthly_buying_freq AS (\n",
    "-- Step 1: Identify customers who visited only once during the entire period\n",
    "WITH visits_per_customer AS (\n",
    "  SELECT\n",
    "    a.customer_id,\n",
    "    COUNT(*) AS tot_visits\n",
    "  FROM \n",
    "    (SELECT DISTINCT customer_id, purchased_at FROM receipts) a\n",
    "  GROUP BY customer_id\n",
    "  HAVING tot_visits = 1\n",
    "),\n",
    "-- Step 2: Calculate average number of monthly visits per customer (excluding one-time visitors)\n",
    "avg_monthly_visits AS (\n",
    "SELECT customer_id, AVG(visits) avg_monthly_visits\n",
    "FROM\n",
    "  (SELECT DATE_TRUNC('MONTH', r.purchased_at)::date date\n",
    "    ,r.customer_id\n",
    "    ,COUNT(r.customer_id) visits\n",
    "  FROM (SELECT DISTINCT customer_id, purchased_at FROM receipts) r\n",
    "  LEFT JOIN visits_per_customer vpc\n",
    "    ON r.customer_id = vpc.customer_id\n",
    "  WHERE vpc.customer_id IS NULL\n",
    "  GROUP BY DATE_TRUNC('MONTH', r.purchased_at), r.customer_id)\n",
    "GROUP BY customer_id\n",
    "ORDER BY 2\n",
    "),\n",
    "-- Step 3: Categorize customers into visit frequency intervals\n",
    "interval_visits AS (\n",
    "  SELECT avg_monthly_visits\n",
    "  ,CASE WHEN avg_monthly_visits = 1 THEN 'once a month'\n",
    "    WHEN avg_monthly_visits >= 1 AND avg_monthly_visits < 2 THEN 'between 1-2'\n",
    "    WHEN avg_monthly_visits >= 2 AND avg_monthly_visits < 3 THEN 'between 2-3'\n",
    "    ELSE 'loyal customers' END\n",
    "  avg_visit_intervals\n",
    "  FROM avg_monthly_visits\n",
    "),\n",
    "-- Step 4: Count number of customers in each visit frequency group and assign index for ordering\n",
    "clients_per_int AS (\n",
    "  SELECT avg_visit_intervals\n",
    "  ,COUNT(*) no_cust\n",
    "  ,CASE WHEN avg_visit_intervals = 'once a month' THEN 1\n",
    "  WHEN avg_visit_intervals = 'between 1-2' THEN 2\n",
    "  WHEN avg_visit_intervals = 'between 2-3' THEN 3\n",
    "  ELSE 4 END\n",
    "  visits_int_index\n",
    "  FROM interval_visits\n",
    "  GROUP BY avg_visit_intervals)\n",
    "\n",
    "SELECT * FROM clients_per_int ORDER BY visits_int_index ASC\n",
    ")"
   ]
  },
  {
   "cell_type": "code",
   "execution_count": 0,
   "metadata": {
    "application/vnd.databricks.v1+cell": {
     "cellMetadata": {
      "byteLimit": 2048000,
      "implicitDf": true,
      "rowLimit": 10000
     },
     "inputWidgets": {},
     "nuid": "7b41911e-dc51-43be-a30b-ef9c0fedc521",
     "showTitle": false,
     "tableResultSettingsMap": {},
     "title": ""
    }
   },
   "outputs": [
    {
     "output_type": "stream",
     "name": "stdout",
     "output_type": "stream",
     "text": [
      "DataFrame[avg_visit_intervals: string, no_cust: bigint, visits_int_index: int]"
     ]
    }
   ],
   "source": [
    "%sql\n",
    "SELECT * FROM monthly_buying_freq"
   ]
  },
  {
   "cell_type": "code",
   "execution_count": 0,
   "metadata": {
    "application/vnd.databricks.v1+cell": {
     "cellMetadata": {
      "byteLimit": 2048000,
      "rowLimit": 10000
     },
     "inputWidgets": {},
     "nuid": "979778e6-b98a-45fc-8cce-2f82c6293dd0",
     "showTitle": false,
     "tableResultSettingsMap": {},
     "title": ""
    }
   },
   "outputs": [
    {
     "output_type": "display_data",
     "data": {
      "image/png": "[encoded data removed]"
     },
     "metadata": {
      "application/vnd.databricks.v1+output": {
       "addedWidgets": {},
       "arguments": {},
       "data": "data:image/png;base64,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\n",
       "datasetInfos": [],
       "metadata": {},
       "removedWidgets": [],
       "type": "image"
      }
     },
     "output_type": "display_data"
    }
   ],
   "source": [
    "%python\n",
    "sql = \"\"\"\n",
    "SELECT * FROM monthly_buying_freq\n",
    "\"\"\"\n",
    "df_tot_visits = spark.sql(sql).toPandas()\n",
    "plt.figure(figsize=(10,3))\n",
    "sns.barplot(data=df_tot_visits,x='avg_visit_intervals', y='no_cust')\n",
    "plt.title('Average Monthly Visits by Customer Interval')\n",
    "plt.xlabel('Average Monthly Visit Interval')\n",
    "plt.ylabel('Number of Customers')\n",
    "plt.show()"
   ]
  },
  {
   "cell_type": "markdown",
   "metadata": {
    "application/vnd.databricks.v1+cell": {
     "cellMetadata": {
      "byteLimit": 2048000,
      "rowLimit": 10000
     },
     "inputWidgets": {},
     "nuid": "a2e7b2db-0863-479e-9078-9735560656bf",
     "showTitle": false,
     "tableResultSettingsMap": {},
     "title": ""
    }
   },
   "source": [
    "#### Average days between visits per category\n",
    "This section will analyze the distribution of days between visits for each customer group, based on their monthly visit frequency."
   ]
  },
  {
   "cell_type": "code",
   "execution_count": 0,
   "metadata": {
    "application/vnd.databricks.v1+cell": {
     "cellMetadata": {
      "byteLimit": 2048000,
      "implicitDf": true,
      "rowLimit": 10000
     },
     "inputWidgets": {},
     "nuid": "e8b0ec20-360b-48f9-8bcb-d69b4995945d",
     "showTitle": false,
     "tableResultSettingsMap": {},
     "title": ""
    }
   },
   "outputs": [
    {
     "output_type": "stream",
     "name": "stdout",
     "output_type": "stream",
     "text": [
      "DataFrame[]"
     ]
    }
   ],
   "source": [
    "%sql\n",
    "CREATE OR REPLACE TEMP VIEW cust_monthly_buying_freq_categories AS (\n",
    "-- Step 1: Identify customers who have only one recorded visit\n",
    "WITH visits_per_customer AS (\n",
    "  SELECT\n",
    "    a.customer_id,\n",
    "    COUNT(*) AS tot_visits\n",
    "  FROM (SELECT DISTINCT customer_id, purchased_at FROM receipts) a\n",
    "  GROUP BY customer_id\n",
    "  HAVING tot_visits = 1\n",
    "),\n",
    "-- Step 2: Calculate the average number of monthly visits for each customer, excluding one-time visitors\n",
    "avg_monthly_visits AS (\n",
    "SELECT customer_id, AVG(visits) avg_monthly_visits\n",
    "FROM\n",
    "  (SELECT DATE_TRUNC('MONTH', r.purchased_at)::date date\n",
    "    ,r.customer_id\n",
    "    ,COUNT(r.customer_id) visits\n",
    "  FROM (SELECT DISTINCT customer_id, purchased_at FROM receipts) r\n",
    "  LEFT JOIN visits_per_customer vpc\n",
    "    ON r.customer_id = vpc.customer_id\n",
    "  WHERE vpc.customer_id IS NULL\n",
    "  GROUP BY DATE_TRUNC('MONTH', r.purchased_at), r.customer_id)\n",
    "GROUP BY customer_id\n",
    "ORDER BY 2\n",
    "),\n",
    "-- Step 3: Assign a visit frequency category to each customer based on their average monthly visits\n",
    "interval_visits AS (\n",
    "  SELECT customer_id\n",
    "  ,avg_monthly_visits\n",
    "  ,CASE WHEN avg_monthly_visits = 1 THEN 'once a month'\n",
    "    WHEN avg_monthly_visits >= 1 AND avg_monthly_visits < 2 THEN 'between 1-2'\n",
    "    WHEN avg_monthly_visits >= 2 AND avg_monthly_visits < 3 THEN 'between 2-3'\n",
    "    ELSE 'loyal customers' END\n",
    "  avg_visit_interval\n",
    "  FROM avg_monthly_visits\n",
    ")\n",
    "SELECT customer_id, avg_visit_interval FROM interval_visits\n",
    ")"
   ]
  },
  {
   "cell_type": "code",
   "execution_count": 0,
   "metadata": {
    "application/vnd.databricks.v1+cell": {
     "cellMetadata": {
      "byteLimit": 2048000,
      "implicitDf": true,
      "rowLimit": 10000
     },
     "inputWidgets": {},
     "nuid": "5e643a8e-37c1-4cad-89bf-5b7b7b0285e4",
     "showTitle": false,
     "tableResultSettingsMap": {},
     "title": ""
    }
   },
   "outputs": [
    {
     "output_type": "stream",
     "name": "stdout",
     "output_type": "stream",
     "text": [
      "DataFrame[]"
     ]
    }
   ],
   "source": [
    "%sql\n",
    "-- Create or replace a temporary view that calculates the average number of days between visits\n",
    "-- for each customer, grouped by their monthly buying frequency category\n",
    "CREATE OR REPLACE TEMP VIEW avg_days_bet_visits AS (\n",
    "-- Step 1: Select distinct visits with customer frequency category joined\n",
    "WITH unique_visits AS (\n",
    "  SELECT DISTINCT r.customer_id\n",
    "    ,r.purchased_at AS visit_date\n",
    "    ,c.avg_visit_interval\n",
    "  FROM receipts r\n",
    "  LEFT JOIN cust_monthly_buying_freq_categories c\n",
    "    ON r.customer_id = c.customer_id\n",
    "  WHERE c.customer_id IS NOT NULL\n",
    "),\n",
    "-- Step 2: Order visits chronologically per customer and assign row numbers\n",
    "purchases_ordered AS (\n",
    "  SELECT customer_id\n",
    "    ,visit_date\n",
    "    ,avg_visit_interval\n",
    "    ,ROW_NUMBER() OVER (PARTITION BY customer_id ORDER BY visit_date) AS visit_order\n",
    "  FROM unique_visits\n",
    "),\n",
    "-- Step 3: Calculate the number of days between consecutive visits for each customer\n",
    "differences AS (\n",
    "  SELECT p1.customer_id\n",
    "  ,p1.avg_visit_interval\n",
    "  ,DATEDIFF(p2.visit_date, p1.visit_date) AS days_between\n",
    "  FROM purchases_ordered p1\n",
    "  JOIN purchases_ordered p2\n",
    "    ON p1.customer_id = p2.customer_id\n",
    "    AND p2.visit_order = p1.visit_order + 1\n",
    ")\n",
    "\n",
    "-- Step 4: Compute the average days between visits per customer and frequency category\n",
    "SELECT customer_id\n",
    "  ,avg_visit_interval\n",
    "  ,AVG(days_between) AS avg_days_between_visits\n",
    "FROM differences\n",
    "GROUP BY customer_id, avg_visit_interval\n",
    "ORDER BY 2 DESC\n",
    ")"
   ]
  },
  {
   "cell_type": "code",
   "execution_count": 0,
   "metadata": {
    "application/vnd.databricks.v1+cell": {
     "cellMetadata": {
      "byteLimit": 2048000,
      "rowLimit": 10000
     },
     "inputWidgets": {},
     "nuid": "6d5a7162-37dd-4177-af87-e125eeb96826",
     "showTitle": false,
     "tableResultSettingsMap": {},
     "title": ""
    }
   },
   "outputs": [
    {
     "output_type": "display_data",
     "data": {
      "image/png": "[encoded data removed]"
     },
     "metadata": {
      "application/vnd.databricks.v1+output": {
       "addedWidgets": {},
       "arguments": {},
       "data": "data:image/png;base64,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\n",
       "datasetInfos": [],
       "metadata": {},
       "removedWidgets": [],
       "type": "image"
      }
     },
     "output_type": "display_data"
    }
   ],
   "source": [
    "%python\n",
    "import warnings\n",
    "warnings.filterwarnings(\"ignore\", category=UserWarning)\n",
    "sql = \"\"\"\n",
    "SELECT * FROM avg_days_bet_visits\n",
    "\"\"\"\n",
    "plt.figure(figsize=(10, 6))\n",
    "df_days_between_visits = spark.sql(sql).toPandas()\n",
    "sns.swarmplot(data=df_days_between_visits, x='avg_visit_interval', y='avg_days_between_visits', size=2)\n",
    "plt.title('Distribution of Days Between Visits by Average Monthly Visit Interval')\n",
    "plt.xlabel('Average Monthly Visit Interval')\n",
    "plt.ylabel('Average Days Between Visits')\n",
    "plt.show()"
   ]
  },
  {
   "cell_type": "markdown",
   "metadata": {
    "application/vnd.databricks.v1+cell": {
     "cellMetadata": {
      "byteLimit": 2048000,
      "rowLimit": 10000
     },
     "inputWidgets": {},
     "nuid": "7ae792c6-9f0b-41aa-b561-e0be72b7ea13",
     "showTitle": false,
     "tableResultSettingsMap": {},
     "title": ""
    }
   },
   "source": [
    "#### Total spend over time\n",
    "Analyzing total spend behavior over time provides better insight into the nature of this metric. As expected, there are noticeable peaks in December, likely due to seasonal trends. However, the overall trend shows a gradual decline in total spend, which is probably related to ongoing customer churn."
   ]
  },
  {
   "cell_type": "code",
   "execution_count": 0,
   "metadata": {
    "application/vnd.databricks.v1+cell": {
     "cellMetadata": {
      "byteLimit": 2048000,
      "rowLimit": 10000
     },
     "inputWidgets": {},
     "nuid": "af5ea5e5-aff0-41f0-a80b-5cf53d81ebc9",
     "showTitle": false,
     "tableResultSettingsMap": {},
     "title": ""
    }
   },
   "outputs": [
    {
     "output_type": "display_data",
     "data": {
      "image/png": "[encoded data removed]"
     },
     "metadata": {
      "application/vnd.databricks.v1+output": {
       "addedWidgets": {},
       "arguments": {},
       "data": "data:image/png;base64,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\n",
       "datasetInfos": [],
       "metadata": {},
       "removedWidgets": [],
       "type": "image"
      }
     },
     "output_type": "display_data"
    }
   ],
   "source": [
    "%python\n",
    "sql = \"\"\"\n",
    "SELECT DATE_TRUNC('MM',purchased_at) base \n",
    "  ,DATE_FORMAT(DATE_TRUNC('MM',purchased_at),'MM-yy') year_month\n",
    "  ,SUM(value) tot_spend\n",
    "  ,SUM(qty) tot_items\n",
    "FROM receipts\n",
    "JOIN receipt_lines\n",
    "USING (receipt_id)\n",
    "GROUP BY base, year_month\n",
    "ORDER BY base ASC\n",
    "\"\"\"\n",
    "trend_analysis_df = spark.sql(sql).toPandas()\n",
    "plt.figure(figsize=(14,6))\n",
    "sns.lineplot(data=trend_analysis_df, x=trend_analysis_df.year_month, y=trend_analysis_df.tot_spend)\n",
    "plt.show()"
   ]
  },
  {
   "cell_type": "markdown",
   "metadata": {
    "application/vnd.databricks.v1+cell": {
     "cellMetadata": {
      "byteLimit": 2048000,
      "rowLimit": 10000
     },
     "inputWidgets": {},
     "nuid": "f7859823-0d4c-4c41-b53a-9a9017dc17b4",
     "showTitle": false,
     "tableResultSettingsMap": {},
     "title": ""
    }
   },
   "source": [
    "#### Creating dataset"
   ]
  },
  {
   "cell_type": "code",
   "execution_count": 0,
   "metadata": {
    "application/vnd.databricks.v1+cell": {
     "cellMetadata": {
      "byteLimit": 2048000,
      "rowLimit": 10000
     },
     "inputWidgets": {},
     "nuid": "9d321722-1cca-4ec3-9683-9af35ae97a32",
     "showTitle": false,
     "tableResultSettingsMap": {},
     "title": ""
    }
   },
   "outputs": [],
   "source": [
    "%python\n",
    "def get_dataset(ref_date, cols_drop, ows=35, tws=7, no_windows=4):\n",
    "# --- SQL segment to build main churn prediction dataset ---\n",
    "  df = pd.DataFrame()\n",
    "  sql_1 = \"\"\"\n",
    "  SELECT customer_id\n",
    "  \"\"\"\n",
    "  sql_2 = \"\"\"\"\"\" # Placeholder to accumulate lag features\n",
    "  # Add recency and last active date features\n",
    "  sql_3 = f\"\"\"\n",
    "  ,MAX(CASE WHEN purchased_at BETWEEN date_sub(:ref_date,{no_windows}*:tws-1) AND date_sub(:ref_date,0) \n",
    "  THEN purchased_at ELSE NULL END) AS last_active_date\n",
    "  ,:ref_date as ref_day\n",
    "  ,DATEDIFF(date_add(:ref_date, 1),last_active_date) recency\n",
    "  \"\"\"\n",
    "  # Define churn label: 1 if no purchases in the next output window, 0 otherwise\n",
    "  sql_4 = \"\"\"\n",
    "  ,CASE WHEN SUM(CASE WHEN purchased_at BETWEEN date_add(:ref_date,1) AND date_add(:ref_date,:ows) THEN value ELSE 0 END) > 0 THEN 0 ELSE 1 END AS churn\n",
    "  FROM receipts\n",
    "  JOIN receipt_lines\n",
    "  USING (receipt_id)\n",
    "  JOIN products\n",
    "  USING (product_code)\n",
    "  GROUP BY customer_id\n",
    "  HAVING SUM(CASE WHEN purchased_at BETWEEN date_sub(:ref_date,3*:tws-1) AND date_sub(:ref_date,1) THEN value ELSE 0 END) > 0\n",
    "  ORDER BY 1, 2 ASC\n",
    "  \"\"\"\n",
    "  # Build lagged features: spend, frequency, diversity over past N weeks\n",
    "  for i in range(1, no_windows + 1):\n",
    "    windows = f\"\"\"\n",
    "    ,SUM(CASE WHEN purchased_at BETWEEN date_sub(:ref_date,{i}*:tws-1) AND date_sub(:ref_date,{i-1}*:tws) THEN value ELSE 0 END) AS spend_lag{i}\n",
    "    ,COUNT(DISTINCT CASE WHEN purchased_at BETWEEN date_sub(:ref_date,{i}*:tws-1) AND date_sub(:ref_date,{i-1}*:tws) THEN purchased_at ELSE NULL END) AS freq_lag{i}\n",
    "    ,COUNT(DISTINCT CASE WHEN purchased_at BETWEEN date_sub(:ref_date,{i}*:tws-1) AND date_sub(:ref_date,{i-1}*:tws) THEN category_details else NULL END) AS div_lag{i}\n",
    "    \"\"\"\n",
    "    sql_2 = sql_2 + windows\n",
    "  # Combine all SQL parts into a single query\n",
    "  sql = sql_1 + sql_2 + sql_3 + sql_4\n",
    "  df_1 = spark.sql(sql,{'ows':ows,'ref_date':ref_date,'tws':tws}).toPandas()\n",
    "# --- SQL segment to compute Average Days Between Purchases (ADBP) per customer ---\n",
    "# adbp = Calculating the Average Time Between Purchases\n",
    "  sql_adbp = f\"\"\"\n",
    "  WITH purchases_window AS (\n",
    "  SELECT DISTINCT customer_id\n",
    "    ,purchased_at\n",
    "  FROM receipts\n",
    "  WHERE purchased_at <= :ref_date\n",
    "  ),\n",
    "\n",
    "  purchases_with_lags AS (\n",
    "  SELECT customer_id\n",
    "    ,purchased_at\n",
    "    ,LAG(purchased_at) OVER (PARTITION BY customer_id ORDER BY purchased_at) AS prev_purchased_at\n",
    "  FROM purchases_window\n",
    "  ),\n",
    "\n",
    "  diffs AS (\n",
    "  SELECT customer_id\n",
    "    ,DATEDIFF(purchased_at, prev_purchased_at) AS days_between\n",
    "  FROM purchases_with_lags\n",
    "  WHERE prev_purchased_at IS NOT NULL\n",
    "  )\n",
    "\n",
    "  SELECT customer_id\n",
    "    ,:ref_date ref_day\n",
    "    ,AVG(days_between) AS adbp\n",
    "  FROM diffs\n",
    "  GROUP BY customer_id;\n",
    "  \"\"\"\n",
    "  # Run ADBP query and merge it into the main dataset\n",
    "  df_adbp = spark.sql(sql_adbp,{'ows':ows,'ref_date':ref_date,'tws':tws}).toPandas()\n",
    "  df_merged = df_1.merge(df_adbp, on=['customer_id','ref_day'], how='left')\n",
    "  # Concatenate into final dataset and set index\n",
    "  df = pd.concat([df,df_merged], ignore_index=True)\n",
    "  df.set_index('customer_id',inplace=True)\n",
    "  # Replacing NaN values for 0\n",
    "  df.adbp.fillna(value=0, inplace=True)\n",
    "  # Printing dates for reference\n",
    "  #for i in range(1, no_windows + 1):\n",
    "  #    window_start = pd.to_datetime(ref_date) - pd.Timedelta(days=i * tws - 1)\n",
    "  #    window_end = pd.to_datetime(ref_date) - pd.Timedelta(days=(i - 1) * tws)\n",
    "  #    print(f\"  lag{i}: {window_start} to {window_end}\")\n",
    "\n",
    "  return df.drop(columns=cols_drop,axis=1), df.churn"
   ]
  },
  {
   "cell_type": "markdown",
   "metadata": {
    "application/vnd.databricks.v1+cell": {
     "cellMetadata": {
      "byteLimit": 2048000,
      "rowLimit": 10000
     },
     "inputWidgets": {},
     "nuid": "8d90e247-1800-4e32-bbf7-14ffef068ab5",
     "showTitle": false,
     "tableResultSettingsMap": {},
     "title": ""
    }
   },
   "source": [
    "#### Function for temporal cross validation"
   ]
  },
  {
   "cell_type": "code",
   "execution_count": 0,
   "metadata": {
    "application/vnd.databricks.v1+cell": {
     "cellMetadata": {
      "byteLimit": 2048000,
      "rowLimit": 10000
     },
     "inputWidgets": {},
     "nuid": "30316789-3844-448a-ad3f-dd2593085a63",
     "showTitle": false,
     "tableResultSettingsMap": {},
     "title": ""
    }
   },
   "outputs": [],
   "source": [
    "%python\n",
    "def oot_evaluation(initial_ref_date, n_splits, model, cols_drop):\n",
    "    scores = []\n",
    "    ref_date = pd.to_datetime(initial_ref_date) # Start from the initial test reference date\n",
    "    # Perform n_splits out-of-time evaluations\n",
    "    for i in range(n_splits):\n",
    "        # Define the training and testing periods based on current ref_date\n",
    "        #print(f'Hold-out {i+1}')\n",
    "        train_ref_date = ref_date - pd.DateOffset(months=1)\n",
    "        test_ref_date = ref_date\n",
    "        #print(f'Train ref: {train_ref_date.date()}')\n",
    "        X_train, y_train = get_dataset(train_ref_date, cols_drop)\n",
    "        #print(f'Test ref date: {test_ref_date.date()}')\n",
    "        X_test, y_test = get_dataset(test_ref_date, cols_drop)\n",
    "        # Traning Model\n",
    "        model.fit(X_train, y_train)\n",
    "        # Predicting & Evaluating\n",
    "        y_pred = model.predict_proba(X_test)[:, 1]\n",
    "        auc = roc_auc_score(y_test, y_pred)\n",
    "        # Saving auc scores\n",
    "        scores.append(auc)\n",
    "        # Moving ref. point\n",
    "        ref_date = ref_date - pd.DateOffset(months=1)\n",
    "    return sum(scores)/len(scores)"
   ]
  },
  {
   "cell_type": "markdown",
   "metadata": {
    "application/vnd.databricks.v1+cell": {
     "cellMetadata": {
      "byteLimit": 2048000,
      "rowLimit": 10000
     },
     "inputWidgets": {},
     "nuid": "012b0579-cb36-44fe-8f6a-baa76d9e5d60",
     "showTitle": false,
     "tableResultSettingsMap": {},
     "title": ""
    }
   },
   "source": [
    "#### Analyzing churn rate over time"
   ]
  },
  {
   "cell_type": "markdown",
   "metadata": {
    "application/vnd.databricks.v1+cell": {
     "cellMetadata": {
      "byteLimit": 2048000,
      "rowLimit": 10000
     },
     "inputWidgets": {},
     "nuid": "3ad9df2c-3b4f-4dbc-b5c2-70f888c6b5d6",
     "showTitle": false,
     "tableResultSettingsMap": {},
     "title": ""
    }
   },
   "source": [
    "Churn label is slightly imbalanced"
   ]
  },
  {
   "cell_type": "code",
   "execution_count": 0,
   "metadata": {
    "application/vnd.databricks.v1+cell": {
     "cellMetadata": {
      "byteLimit": 2048000,
      "rowLimit": 10000
     },
     "inputWidgets": {},
     "nuid": "49741cd6-57a5-46e7-89b3-678ac313657e",
     "showTitle": false,
     "tableResultSettingsMap": {},
     "title": ""
    }
   },
   "outputs": [],
   "source": [
    "ref_date=pd.to_datetime('01/02/2022')\n",
    "df_churn = pd.DataFrame()\n",
    "for i in range(13):\n",
    "  X1, y1 = get_dataset(ref_date=ref_date,cols_drop=['churn','last_active_date'])\n",
    "  df_ = X1.merge(y1, on='customer_id', how='left')\n",
    "  df_churn = pd.concat([df_churn,df_], axis=0)\n",
    "  ref_date = ref_date - pd.DateOffset(months=1)\n",
    "df_churn = df_churn.sort_values(by='ref_day')\n",
    "\n",
    "df_churn_grouped = df_churn.groupby(['ref_day','churn']).size().reset_index(name='count')\n",
    "monthly_totals = df_churn_grouped.groupby('ref_day')['count'].transform('sum')\n",
    "df_churn_grouped['percentage'] = 100 * df_churn_grouped['count'] / monthly_totals"
   ]
  },
  {
   "cell_type": "code",
   "execution_count": 0,
   "metadata": {
    "application/vnd.databricks.v1+cell": {
     "cellMetadata": {
      "byteLimit": 2048000,
      "rowLimit": 10000
     },
     "inputWidgets": {},
     "nuid": "a00ecd19-405d-44f0-9249-f0c0ef01f309",
     "showTitle": false,
     "tableResultSettingsMap": {},
     "title": ""
    }
   },
   "outputs": [
    {
     "output_type": "display_data",
     "data": {
      "image/png": "[encoded data removed]"
     },
     "metadata": {
      "application/vnd.databricks.v1+output": {
       "addedWidgets": {},
       "arguments": {},
       "data": "data:image/png;base64,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\n",
       "datasetInfos": [],
       "metadata": {},
       "removedWidgets": [],
       "type": "image"
      }
     },
     "output_type": "display_data"
    }
   ],
   "source": [
    "%python\n",
    "pivot_df = df_churn_grouped.pivot(index=\"ref_day\", columns=\"churn\", values=\"count\").fillna(0)\n",
    "pivot_pct = pivot_df.div(pivot_df.sum(axis=1), axis=0) * 100\n",
    "pivot_pct.columns = ['Non-Churn', 'Churn']\n",
    "pivot_pct.index = pivot_pct.index.strftime('%Y-%m')\n",
    "# Stacked bar chart\n",
    "ax = pivot_pct.plot(kind=\"bar\", stacked=True, figsize=(10, 6), color=[\"#d9534f\", \"#5bc0de\"])\n",
    "plt.title(\"Monthly Churn vs Non-Churn Proportions\")\n",
    "plt.ylabel(\"Percentage\")\n",
    "plt.xlabel(\"Month\")\n",
    "plt.xticks(rotation=45)\n",
    "plt.legend(title=\"Customer Type\", loc=\"upper right\")\n",
    "plt.tight_layout()\n",
    "plt.grid(axis=\"y\", linestyle=\"--\", alpha=0.7)\n",
    "plt.show()"
   ]
  },
  {
   "cell_type": "markdown",
   "metadata": {
    "application/vnd.databricks.v1+cell": {
     "cellMetadata": {
      "byteLimit": 2048000,
      "rowLimit": 10000
     },
     "inputWidgets": {},
     "nuid": "7103ef9b-e0bf-4b0e-b0de-8f543862b741",
     "showTitle": false,
     "tableResultSettingsMap": {},
     "title": ""
    }
   },
   "source": [
    "### FEATURE IMPORTANCE"
   ]
  },
  {
   "cell_type": "code",
   "execution_count": 0,
   "metadata": {
    "application/vnd.databricks.v1+cell": {
     "cellMetadata": {
      "byteLimit": 2048000,
      "rowLimit": 10000
     },
     "inputWidgets": {},
     "nuid": "fd7d29c9-b4ee-495b-87c9-52e69d009572",
     "showTitle": false,
     "tableResultSettingsMap": {},
     "title": ""
    }
   },
   "outputs": [],
   "source": [
    "%python\n",
    "X,y = get_dataset(ref_date='2022-01-01', cols_drop=['churn','last_active_date','ref_day'])\n",
    "feature_groups = {\n",
    "  'spend_cols': ['spend_lag1','spend_lag2','spend_lag3','spend_lag4'],\n",
    "  'freq_cols': ['freq_lag1','freq_lag2','freq_lag3','freq_lag4'],\n",
    "  'div_cols': ['div_lag1','div_lag2','div_lag3','div_lag4'],\n",
    "  'recency': ['recency'],\n",
    "  'adbp': ['adbp']\n",
    "  }\n",
    "model = RandomForestClassifier(random_state=0).fit(X,y)"
   ]
  },
  {
   "cell_type": "markdown",
   "metadata": {
    "application/vnd.databricks.v1+cell": {
     "cellMetadata": {
      "byteLimit": 2048000,
      "rowLimit": 10000
     },
     "inputWidgets": {},
     "nuid": "585108b4-9347-4604-ae92-03353e52d609",
     "showTitle": false,
     "tableResultSettingsMap": {},
     "title": ""
    }
   },
   "source": [
    "#### Permutation Importance"
   ]
  },
  {
   "cell_type": "code",
   "execution_count": 0,
   "metadata": {
    "application/vnd.databricks.v1+cell": {
     "cellMetadata": {
      "byteLimit": 2048000,
      "rowLimit": 10000
     },
     "inputWidgets": {},
     "nuid": "24c3981c-1ae6-4f6c-b544-0708b49c26ca",
     "showTitle": false,
     "tableResultSettingsMap": {},
     "title": ""
    }
   },
   "outputs": [
    {
     "output_type": "stream",
     "name": "stdout",
     "output_type": "stream",
     "text": [
      "Out[21]: [('adbp', 0.15505789909015716),\n ('spend_cols', 0.08400998918368643),\n ('div_cols', 0.052664948781574086),\n ('recency', 0.020862760068715392),\n ('freq_cols', 0.004997136858179052)]"
     ]
    }
   ],
   "source": [
    "%python\n",
    "def permutation_importance_grouped(model, X, y, feature_groups, n_repeats=10, random_state=0):\n",
    "    # Compute baseline AUC with unshuffled features\n",
    "    baseline_score = roc_auc_score(y, model.predict_proba(X)[:, 1])\n",
    "    importances = {}\n",
    "    # Iterate over each group of features (e.g., lagged spend, frequency, diversity)\n",
    "    for group_name, group_features in feature_groups.items():\n",
    "        scores = []\n",
    "        # Repeat the permutation n times to reduce variance\n",
    "        for _ in range(n_repeats):\n",
    "            X_shuffled = X.copy()\n",
    "            # Shuffle all columns in the current feature group\n",
    "            for col in group_features:\n",
    "                X_shuffled[col] = np.random.permutation(X_shuffled[col].values)\n",
    "            # Calculate drop in AUC after shuffling this group\n",
    "            score = roc_auc_score(y, model.predict_proba(X_shuffled)[:, 1])\n",
    "            scores.append(baseline_score - score)\n",
    "        importances[group_name] = np.mean(scores)\n",
    "\n",
    "    return importances\n",
    "# Call the function and sort the feature groups by their importance in descending order\n",
    "sorted(permutation_importance_grouped(model=model, X=X, y=y, feature_groups=feature_groups).items(), key=lambda item: item[1], reverse=True)"
   ]
  },
  {
   "cell_type": "markdown",
   "metadata": {
    "application/vnd.databricks.v1+cell": {
     "cellMetadata": {
      "byteLimit": 2048000,
      "rowLimit": 10000
     },
     "inputWidgets": {},
     "nuid": "65280d08-7df7-44b5-933d-9dcb34a08351",
     "showTitle": false,
     "tableResultSettingsMap": {},
     "title": ""
    }
   },
   "source": [
    "#### SHAP Feature Importance"
   ]
  },
  {
   "cell_type": "code",
   "execution_count": 0,
   "metadata": {
    "application/vnd.databricks.v1+cell": {
     "cellMetadata": {
      "byteLimit": 2048000,
      "rowLimit": 10000
     },
     "inputWidgets": {},
     "nuid": "fde69ad9-a472-41a0-abe3-53b03d33e273",
     "showTitle": false,
     "tableResultSettingsMap": {},
     "title": ""
    }
   },
   "outputs": [
    {
     "output_type": "stream",
     "name": "stdout",
     "output_type": "stream",
     "text": [
      "[('adbp', 0.1253930747745161), ('spend_cols', 0.12476190792522508), ('div_cols', 0.10074182531190211), ('freq_cols', 0.05870642459516422), ('recency', 0.037672595920084505)]\n"
     ]
    }
   ],
   "source": [
    "%python\n",
    "# Use TreeExplainer for tree-based models like RandomForest\n",
    "explainer = shap.TreeExplainer(model)\n",
    "shap_values = explainer.shap_values(X)  # Returns list: [class_0, class_1] for binary classification\n",
    "# Take SHAP values for the positive class (churn = 1)\n",
    "shap_vals_class1 = shap_values[:, :, 1]  # Shape: (n_samples, n_features)\n",
    "# Convert to DataFrame for easier manipulation\n",
    "shap_df = pd.DataFrame(np.abs(shap_vals_class1), columns=X.columns)\n",
    "group_importance = {}\n",
    "for group_name, group_features in feature_groups.items():\n",
    "    # Sum absolute SHAP values across the group and average across rows\n",
    "    group_importance[group_name] = shap_df[group_features].sum(axis=1).mean()\n",
    "\n",
    "print(sorted(group_importance.items(), key=lambda item: item[1], reverse=True))"
   ]
  },
  {
   "cell_type": "code",
   "execution_count": 0,
   "metadata": {
    "application/vnd.databricks.v1+cell": {
     "cellMetadata": {},
     "inputWidgets": {},
     "nuid": "a213ef59-3b8b-443e-8b42-e2c92f6dcd26",
     "showTitle": false,
     "tableResultSettingsMap": {},
     "title": ""
    }
   },
   "outputs": [],
   "source": []
  },
  {
   "cell_type": "markdown",
   "metadata": {
    "application/vnd.databricks.v1+cell": {
     "cellMetadata": {
      "byteLimit": 2048000,
      "rowLimit": 10000
     },
     "inputWidgets": {},
     "nuid": "b1adbd99-dc98-4be6-ba39-502b5fbb209d",
     "showTitle": false,
     "tableResultSettingsMap": {},
     "title": ""
    }
   },
   "source": [
    "### Model Evaluation"
   ]
  },
  {
   "cell_type": "markdown",
   "metadata": {
    "application/vnd.databricks.v1+cell": {
     "cellMetadata": {
      "byteLimit": 2048000,
      "rowLimit": 10000
     },
     "inputWidgets": {},
     "nuid": "20ee8337-99db-4723-aa5d-234b6abe5649",
     "showTitle": false,
     "tableResultSettingsMap": {},
     "title": ""
    }
   },
   "source": [
    "#### Random Forest Classifier"
   ]
  },
  {
   "cell_type": "code",
   "execution_count": 0,
   "metadata": {
    "application/vnd.databricks.v1+cell": {
     "cellMetadata": {
      "byteLimit": 2048000,
      "rowLimit": 10000
     },
     "inputWidgets": {},
     "nuid": "39abd412-0823-49b9-8983-50c25cd4b6cd",
     "showTitle": false,
     "tableResultSettingsMap": {},
     "title": ""
    }
   },
   "outputs": [
    {
     "output_type": "stream",
     "name": "stdout",
     "output_type": "stream",
     "text": [
      "Out[24]: 0.7958578517177485"
     ]
    }
   ],
   "source": [
    "%python\n",
    "RFC = RandomForestClassifier(random_state=0)\n",
    "oot_evaluation(initial_ref_date='01/01/2022', n_splits=5, model=RFC, cols_drop=['churn','last_active_date','ref_day'])"
   ]
  },
  {
   "cell_type": "markdown",
   "metadata": {
    "application/vnd.databricks.v1+cell": {
     "cellMetadata": {
      "byteLimit": 2048000,
      "rowLimit": 10000
     },
     "inputWidgets": {},
     "nuid": "b5df6b6a-b18a-4c0e-8cf5-ce4a3ac4faef",
     "showTitle": false,
     "tableResultSettingsMap": {},
     "title": ""
    }
   },
   "source": [
    "#### XGBoost"
   ]
  },
  {
   "cell_type": "code",
   "execution_count": 0,
   "metadata": {
    "application/vnd.databricks.v1+cell": {
     "cellMetadata": {
      "byteLimit": 2048000,
      "rowLimit": 10000
     },
     "inputWidgets": {},
     "nuid": "4d9a95f4-4ff5-4817-8bcc-b23aa569ff70",
     "showTitle": false,
     "tableResultSettingsMap": {},
     "title": ""
    }
   },
   "outputs": [
    {
     "output_type": "stream",
     "name": "stdout",
     "output_type": "stream",
     "text": [
      "Out[25]: 0.7920678847800015"
     ]
    }
   ],
   "source": [
    "%python\n",
    "XGB = xgb.XGBClassifier(objective=\"binary:logistic\")\n",
    "oot_evaluation(initial_ref_date='01/01/2022', n_splits=5, model=XGB, cols_drop=['churn','last_active_date','ref_day'])"
   ]
  },
  {
   "cell_type": "markdown",
   "metadata": {
    "application/vnd.databricks.v1+cell": {
     "cellMetadata": {
      "byteLimit": 2048000,
      "rowLimit": 10000
     },
     "inputWidgets": {},
     "nuid": "9174bf99-3a5a-4b17-901d-b496e1cb7a3d",
     "showTitle": false,
     "tableResultSettingsMap": {},
     "title": ""
    }
   },
   "source": [
    "#### Logistic Regression"
   ]
  },
  {
   "cell_type": "markdown",
   "metadata": {
    "application/vnd.databricks.v1+cell": {
     "cellMetadata": {
      "byteLimit": 2048000,
      "rowLimit": 10000
     },
     "inputWidgets": {},
     "nuid": "ba1ce981-f8ff-4d2c-bd7c-7f8864227ee0",
     "showTitle": false,
     "tableResultSettingsMap": {},
     "title": ""
    }
   },
   "source": [
    "Standardization of individual and lagged features"
   ]
  },
  {
   "cell_type": "code",
   "execution_count": 0,
   "metadata": {
    "application/vnd.databricks.v1+cell": {
     "cellMetadata": {
      "byteLimit": 2048000,
      "rowLimit": 10000
     },
     "inputWidgets": {},
     "nuid": "513bab8f-9675-441f-ad8e-613f256046cd",
     "showTitle": false,
     "tableResultSettingsMap": {},
     "title": ""
    }
   },
   "outputs": [],
   "source": [
    "def standardize_lagged_features(df_train, df_test, group_cols):\n",
    "    df_train = df_train.copy()\n",
    "    df_test = df_test.copy()\n",
    "    # Standardize each group of lagged features together\n",
    "    for group_name, cols in group_cols.items():\n",
    "        stacked_values = df_train[cols].values.flatten()\n",
    "        mean = np.mean(stacked_values)\n",
    "        std = np.std(stacked_values)\n",
    "        if std == 0:\n",
    "            std = 1\n",
    "        df_train[cols] = (df_train[cols] - mean) / std\n",
    "        df_test[cols] = (df_test[cols] - mean) / std\n",
    "    return df_train, df_test\n",
    "\n",
    "def standardize_individual_features(df_train, df_test, exclude_cols):\n",
    "    df_train = df_train.copy()\n",
    "    df_test = df_test.copy()\n",
    "    # Identify numeric columns to scale, excluding specified ones\n",
    "    numeric_cols = df_train.select_dtypes(include=[np.number]).columns\n",
    "    cols_to_scale = [col for col in numeric_cols if col not in exclude_cols]\n",
    "    # Standardize each selected column individually using global mean and std\n",
    "    for col in cols_to_scale:\n",
    "        mean = df_train[col].mean()\n",
    "        std = df_train[col].std()\n",
    "        if std == 0:\n",
    "            std = 1 # Avoid division by zero\n",
    "        df_train[col] = (df_train[col] - mean) / std\n",
    "        df_test[col] = (df_test[col] - mean) / std\n",
    "\n",
    "    return df_train, df_test"
   ]
  },
  {
   "cell_type": "code",
   "execution_count": 0,
   "metadata": {
    "application/vnd.databricks.v1+cell": {
     "cellMetadata": {
      "byteLimit": 2048000,
      "rowLimit": 10000
     },
     "inputWidgets": {},
     "nuid": "e9daff50-c9a7-4290-b3e8-60c42b2aa245",
     "showTitle": false,
     "tableResultSettingsMap": {},
     "title": ""
    }
   },
   "outputs": [],
   "source": [
    "%python\n",
    "def oot_evaluation_scaled(initial_ref_date, n_splits, model, cols_drop):\n",
    "    scores = []\n",
    "    ref_date = pd.to_datetime(initial_ref_date)\n",
    "\n",
    "    for i in range(n_splits):\n",
    "        train_ref_date = ref_date - pd.DateOffset(months=1)\n",
    "        test_ref_date = ref_date\n",
    "\n",
    "        X_train, y_train = get_dataset(train_ref_date, cols_drop)\n",
    "        X_test, y_test = get_dataset(test_ref_date, cols_drop)\n",
    "\n",
    "        # Lagged features standardization\n",
    "        X_train, X_test = standardize_lagged_features(X_train, X_test, feature_groups)\n",
    "\n",
    "        # Indiv. features standardization\n",
    "        lags = sum(feature_groups.values(), []) # Putting the lagged features in a list to avoid standardizing them again\n",
    "        X_train, X_test = standardize_individual_features(X_train, X_test, exclude_cols=lags)\n",
    "\n",
    "        model.fit(X_train, y_train)\n",
    "        y_pred = model.predict_proba(X_test)[:, 1]\n",
    "        auc = roc_auc_score(y_test, y_pred)\n",
    "        scores.append(auc)\n",
    "\n",
    "        ref_date = ref_date - pd.DateOffset(months=1)\n",
    "\n",
    "    return sum(scores) / len(scores)"
   ]
  },
  {
   "cell_type": "code",
   "execution_count": 0,
   "metadata": {
    "application/vnd.databricks.v1+cell": {
     "cellMetadata": {
      "byteLimit": 2048000,
      "rowLimit": 10000
     },
     "inputWidgets": {},
     "nuid": "a88e0483-abfb-4c34-a7e8-5b55a3ac692c",
     "showTitle": false,
     "tableResultSettingsMap": {},
     "title": ""
    }
   },
   "outputs": [
    {
     "output_type": "stream",
     "name": "stdout",
     "output_type": "stream",
     "text": [
      "Out[30]: 0.7503762338015798"
     ]
    }
   ],
   "source": [
    "%python\n",
    "LR = LogisticRegression(random_state=0)\n",
    "oot_evaluation_scaled(initial_ref_date='01/01/2022', n_splits=5, model=LR, cols_drop=['churn','last_active_date','ref_day'])"
   ]
  },
  {
   "cell_type": "markdown",
   "metadata": {
    "application/vnd.databricks.v1+cell": {
     "cellMetadata": {
      "byteLimit": 2048000,
      "rowLimit": 10000
     },
     "inputWidgets": {},
     "nuid": "9375ae7b-4de4-468d-b0be-9adf0e6b6ba8",
     "showTitle": false,
     "tableResultSettingsMap": {},
     "title": ""
    }
   },
   "source": [
    "### FEATURE SELECTION"
   ]
  },
  {
   "cell_type": "code",
   "execution_count": 0,
   "metadata": {
    "application/vnd.databricks.v1+cell": {
     "cellMetadata": {
      "byteLimit": 2048000,
      "rowLimit": 10000
     },
     "inputWidgets": {},
     "nuid": "3fce9183-522a-46ee-a07c-f5aaac4b9e50",
     "showTitle": false,
     "tableResultSettingsMap": {},
     "title": ""
    }
   },
   "outputs": [
    {
     "output_type": "stream",
     "name": "stdout",
     "output_type": "stream",
     "text": [
      "Out[31]: 0.793693185512435"
     ]
    }
   ],
   "source": [
    "%python\n",
    "RFC = RandomForestClassifier(random_state=0)\n",
    "oot_evaluation(initial_ref_date='01/01/2022', n_splits=5, model=RFC, cols_drop=['churn','last_active_date','ref_day','recency'])"
   ]
  },
  {
   "cell_type": "code",
   "execution_count": 0,
   "metadata": {
    "application/vnd.databricks.v1+cell": {
     "cellMetadata": {
      "byteLimit": 2048000,
      "rowLimit": 10000
     },
     "inputWidgets": {},
     "nuid": "bdd51539-41c7-4f22-b7ab-3193373e7c6d",
     "showTitle": false,
     "tableResultSettingsMap": {},
     "title": ""
    }
   },
   "outputs": [
    {
     "output_type": "stream",
     "name": "stdout",
     "output_type": "stream",
     "text": [
      "Out[32]: 0.7947069765137779"
     ]
    }
   ],
   "source": [
    "%python\n",
    "RFC = RandomForestClassifier(random_state=0)\n",
    "oot_evaluation(initial_ref_date='01/01/2022', n_splits=5, model=RFC, cols_drop=['churn','last_active_date','ref_day','recency','freq_lag1','freq_lag2','freq_lag3','freq_lag4'])"
   ]
  },
  {
   "cell_type": "code",
   "execution_count": 0,
   "metadata": {
    "application/vnd.databricks.v1+cell": {
     "cellMetadata": {
      "byteLimit": 2048000,
      "rowLimit": 10000
     },
     "inputWidgets": {},
     "nuid": "dfddc38b-01da-46bd-8b09-841b6a254c45",
     "showTitle": false,
     "tableResultSettingsMap": {},
     "title": ""
    }
   },
   "outputs": [],
   "source": [
    "%python\n",
    "cols_drop=['churn','last_active_date','ref_day','recency','freq_lag1','freq_lag2','freq_lag3','freq_lag4']"
   ]
  },
  {
   "cell_type": "markdown",
   "metadata": {
    "application/vnd.databricks.v1+cell": {
     "cellMetadata": {
      "byteLimit": 2048000,
      "rowLimit": 10000
     },
     "inputWidgets": {},
     "nuid": "840c8fa4-9a85-44c8-8698-2f777c32e3d6",
     "showTitle": false,
     "tableResultSettingsMap": {},
     "title": ""
    }
   },
   "source": [
    "### HYPERPARAMETER TUNING"
   ]
  },
  {
   "cell_type": "code",
   "execution_count": 0,
   "metadata": {
    "application/vnd.databricks.v1+cell": {
     "cellMetadata": {
      "byteLimit": 2048000,
      "rowLimit": 10000
     },
     "inputWidgets": {},
     "nuid": "63a43b60-58c6-4391-9b28-a6156232a8a5",
     "showTitle": false,
     "tableResultSettingsMap": {},
     "title": ""
    }
   },
   "outputs": [],
   "source": [
    "%python\n",
    "def manual_grid_search(param_grid, initial_ref_date, n_splits, cols_drop):\n",
    "    best_score = -1\n",
    "    best_params = None\n",
    "    results = []\n",
    "    # Generate all combinations of parameters\n",
    "    keys = list(param_grid.keys())\n",
    "    for values in product(*param_grid.values()):\n",
    "        params = dict(zip(keys, values))\n",
    "        print(f\"Evaluating params: {params}\")\n",
    "        # Create model with current set of parameters\n",
    "        model = RandomForestClassifier(**params, random_state=42)\n",
    "        # Evaluate using OOT\n",
    "        score = oot_evaluation(initial_ref_date, n_splits, model, cols_drop)\n",
    "        print(f\"AUC: {score:.6f}\")\n",
    "        results.append((params, score))\n",
    "        if score > best_score:\n",
    "            best_score = score\n",
    "            best_params = params\n",
    "\n",
    "    print(f\"Best params: {best_params} with AUC: {best_score:.4f}\")\n",
    "    return best_params, results"
   ]
  },
  {
   "cell_type": "markdown",
   "metadata": {
    "application/vnd.databricks.v1+cell": {
     "cellMetadata": {
      "byteLimit": 2048000,
      "rowLimit": 10000
     },
     "inputWidgets": {},
     "nuid": "465a5fcc-2edf-423f-83d3-19d750e42f94",
     "showTitle": false,
     "tableResultSettingsMap": {},
     "title": ""
    }
   },
   "source": [
    "#### BEST MODEL EVALUATION - RANDOM FOREST CLASSIFIER"
   ]
  },
  {
   "cell_type": "code",
   "execution_count": 0,
   "metadata": {
    "application/vnd.databricks.v1+cell": {
     "cellMetadata": {
      "byteLimit": 2048000,
      "rowLimit": 10000
     },
     "inputWidgets": {},
     "nuid": "ce78c0b0-44cc-4315-b119-006398c91ac7",
     "showTitle": false,
     "tableResultSettingsMap": {},
     "title": ""
    }
   },
   "outputs": [
    {
     "output_type": "stream",
     "name": "stdout",
     "output_type": "stream",
     "text": [
      "Evaluating params: {'n_estimators': 100, 'max_depth': 5, 'min_samples_split': 2}\nAUC: 0.825322\nEvaluating params: {'n_estimators': 100, 'max_depth': 5, 'min_samples_split': 5}\nAUC: 0.825756\nEvaluating params: {'n_estimators': 100, 'max_depth': None, 'min_samples_split': 2}\nAUC: 0.798210\nEvaluating params: {'n_estimators': 100, 'max_depth': None, 'min_samples_split': 5}\nAUC: 0.802175\nEvaluating params: {'n_estimators': 200, 'max_depth': 5, 'min_samples_split': 2}\nAUC: 0.826200\nEvaluating params: {'n_estimators': 200, 'max_depth': 5, 'min_samples_split': 5}\nAUC: 0.826113\nEvaluating params: {'n_estimators': 200, 'max_depth': None, 'min_samples_split': 2}\nAUC: 0.799018\nEvaluating params: {'n_estimators': 200, 'max_depth': None, 'min_samples_split': 5}\nAUC: 0.805252\nBest params: {'n_estimators': 200, 'max_depth': 5, 'min_samples_split': 2} with AUC: 0.8262\n"
     ]
    }
   ],
   "source": [
    "%python\n",
    "param_grid = {\n",
    "    'n_estimators': [100, 200],\n",
    "    'max_depth': [5, None],\n",
    "    'min_samples_split': [2, 5],\n",
    "}\n",
    "best_params, all_results = manual_grid_search(\n",
    "    param_grid,\n",
    "    initial_ref_date=\"2022-01-01\",\n",
    "    n_splits=5,\n",
    "    cols_drop=cols_drop\n",
    ")"
   ]
  },
  {
   "cell_type": "markdown",
   "metadata": {
    "application/vnd.databricks.v1+cell": {
     "cellMetadata": {
      "byteLimit": 2048000,
      "rowLimit": 10000
     },
     "inputWidgets": {},
     "nuid": "cfe1f170-a376-42cb-9db8-acc78e6ed458",
     "showTitle": false,
     "tableResultSettingsMap": {},
     "title": ""
    }
   },
   "source": [
    "### Defining Threshold"
   ]
  },
  {
   "cell_type": "code",
   "execution_count": 0,
   "metadata": {
    "application/vnd.databricks.v1+cell": {
     "cellMetadata": {
      "byteLimit": 2048000,
      "rowLimit": 10000
     },
     "inputWidgets": {},
     "nuid": "a2eb4e96-c72b-4818-a2da-6d6955052ffc",
     "showTitle": false,
     "tableResultSettingsMap": {},
     "title": ""
    }
   },
   "outputs": [
    {
     "output_type": "stream",
     "name": "stdout",
     "output_type": "stream",
     "text": [
      "roc_auc: 0.8014\nRecall: 0.4487\n"
     ]
    }
   ],
   "source": [
    "best_params = {'n_estimators': 200, 'max_depth': 5, 'min_samples_split': 2}\n",
    "RFC = RandomForestClassifier(random_state=0, **best_params)\n",
    "ref_date = pd.to_datetime(\"01/02/2022\") # This ensures to use the most recent data for the final training\n",
    "train_ref_date = ref_date - pd.DateOffset(months=1)\n",
    "test_ref_date = ref_date\n",
    "# Training and testing data\n",
    "X_train, y_train = get_dataset(train_ref_date, cols_drop)\n",
    "X_test, y_test = get_dataset(test_ref_date, cols_drop)\n",
    "model = RFC.fit(X_train, y_train)\n",
    "y_pred_labels = model.predict(X_test)\n",
    "y_pred_proba = model.predict_proba(X_test)[:,1]\n",
    "recall = recall_score(y_test, y_pred_labels)\n",
    "roc_auc = roc_auc_score(y_test, y_pred_proba)\n",
    "print(f\"roc_auc: {roc_auc:.4f}\")\n",
    "print(f\"Recall: {recall:.4f}\")"
   ]
  },
  {
   "cell_type": "code",
   "execution_count": 0,
   "metadata": {
    "application/vnd.databricks.v1+cell": {
     "cellMetadata": {
      "byteLimit": 2048000,
      "rowLimit": 10000
     },
     "inputWidgets": {},
     "nuid": "c67790c2-3d23-4771-9b2f-88cfec981d4f",
     "showTitle": false,
     "tableResultSettingsMap": {},
     "title": ""
    }
   },
   "outputs": [
    {
     "output_type": "display_data",
     "data": {
      "image/png": "[encoded data removed]"
     },
     "metadata": {
      "application/vnd.databricks.v1+output": {
       "addedWidgets": {},
       "arguments": {},
       "data": "data:image/png;base64,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\n",
       "datasetInfos": [],
       "metadata": {},
       "removedWidgets": [],
       "type": "image"
      }
     },
     "output_type": "display_data"
    }
   ],
   "source": [
    "# Calculating ROC Curve\n",
    "fpr, tpr, thresholds = roc_curve(y_test, y_pred_proba)\n",
    "auc = roc_auc_score(y_test, y_pred_proba)\n",
    "\n",
    "# Plot ROC curve\n",
    "plt.figure(figsize=(10, 6))\n",
    "plt.plot(fpr, tpr, label=f'ROC Curve (AUC = {auc:.3f})')\n",
    "plt.plot([0, 1], [0, 1], 'k--', label='Random Classifier')\n",
    "plt.xlabel('False Positive Rate')\n",
    "plt.ylabel('True Positive Rate (Recall)')\n",
    "plt.title('ROC Curve with Thresholds')\n",
    "plt.grid(True)\n",
    "\n",
    "# Anotar algunos thresholds en la curva\n",
    "num_points = 10  # número de thresholds a mostrar\n",
    "step = max(1, len(thresholds) // num_points)\n",
    "\n",
    "for i in range(0, len(thresholds), step):\n",
    "    plt.annotate(f'{thresholds[i]:.2f}',\n",
    "                 (fpr[i], tpr[i]),\n",
    "                 textcoords=\"offset points\",\n",
    "                 xytext=(0, -15),\n",
    "                 ha='center',\n",
    "                 fontsize=8,\n",
    "                 color='red')\n",
    "\n",
    "plt.legend()\n",
    "plt.show()"
   ]
  },
  {
   "cell_type": "markdown",
   "metadata": {
    "application/vnd.databricks.v1+cell": {
     "cellMetadata": {
      "byteLimit": 2048000,
      "rowLimit": 10000
     },
     "inputWidgets": {},
     "nuid": "36c8780a-ff00-4d2b-9c74-b987ebbeec1d",
     "showTitle": false,
     "tableResultSettingsMap": {},
     "title": ""
    }
   },
   "source": [
    "#### Applying threshold"
   ]
  },
  {
   "cell_type": "code",
   "execution_count": 0,
   "metadata": {
    "application/vnd.databricks.v1+cell": {
     "cellMetadata": {
      "byteLimit": 2048000,
      "rowLimit": 10000
     },
     "inputWidgets": {},
     "nuid": "1215980e-c59d-4223-b640-f5cf76b839ce",
     "showTitle": false,
     "tableResultSettingsMap": {},
     "title": ""
    }
   },
   "outputs": [
    {
     "output_type": "stream",
     "name": "stdout",
     "output_type": "stream",
     "text": [
      "Recall: 0.7404\n"
     ]
    }
   ],
   "source": [
    "y_scores = model.predict_proba(X_test)[:,1] # Probability for class 1 (churn)\n",
    "threshold = 0.3\n",
    "y_pred_labels = (y_scores >= threshold).astype(int)\n",
    "recall = recall_score(y_test, y_pred_labels)\n",
    "print(f\"Recall: {recall:.4f}\")"
   ]
  },
  {
   "cell_type": "markdown",
   "metadata": {
    "application/vnd.databricks.v1+cell": {
     "cellMetadata": {
      "byteLimit": 2048000,
      "rowLimit": 10000
     },
     "inputWidgets": {},
     "nuid": "ff0dbe73-684e-4c81-890b-7def45bd834e",
     "showTitle": false,
     "tableResultSettingsMap": {},
     "title": ""
    }
   },
   "source": [
    "### Pen Profiles"
   ]
  },
  {
   "cell_type": "code",
   "execution_count": 0,
   "metadata": {
    "application/vnd.databricks.v1+cell": {
     "cellMetadata": {
      "byteLimit": 2048000,
      "rowLimit": 10000
     },
     "inputWidgets": {},
     "nuid": "bdd6d230-136e-4bb2-a830-1f380a65d958",
     "showTitle": false,
     "tableResultSettingsMap": {},
     "title": ""
    }
   },
   "outputs": [],
   "source": [
    "%python\n",
    "ref_date=pd.to_datetime('01/02/2022')\n",
    "for i in range(3):\n",
    "  A, B = get_dataset(ref_date=ref_date, cols_drop=cols_drop)\n",
    "  df_pen_portraits = pd.concat([A,B],axis=1)\n",
    "  df_pen_portraits.head()\n",
    "  ref_date = ref_date - pd.DateOffset(months=1)\n",
    "  df_pen_portraits = df_pen_portraits[['spend_lag4','spend_lag3','spend_lag2','spend_lag1','div_lag4','div_lag3','div_lag2','div_lag1','adbp','churn']]"
   ]
  },
  {
   "cell_type": "code",
   "execution_count": 0,
   "metadata": {
    "application/vnd.databricks.v1+cell": {
     "cellMetadata": {
      "byteLimit": 2048000,
      "rowLimit": 10000
     },
     "inputWidgets": {},
     "nuid": "f506e776-8f88-45d0-a9d6-39c443470ccb",
     "showTitle": false,
     "tableResultSettingsMap": {},
     "title": ""
    }
   },
   "outputs": [
    {
     "output_type": "stream",
     "name": "stdout",
     "output_type": "stream",
     "text": [
      "Churners\n       spend_lag4  spend_lag3  spend_lag2  spend_lag1  div_lag4  div_lag3  div_lag2  div_lag1       adbp\nmean    2.042680    8.146480    7.944800    7.382280  1.036000  3.160000  3.820000   3.37600  63.413694\nstd     6.839021   17.217977   14.266251   13.520348  3.437728  6.003212  6.590397   5.91053  86.435450\nNon-Churners\n       spend_lag4  spend_lag3  spend_lag2  spend_lag1  div_lag4  div_lag3  div_lag2  div_lag1       adbp\nmean    8.805491    5.721168   10.074463   10.621051  3.827103  2.579439  4.507009  4.892523  25.634695\nstd    14.778196   10.912423   13.632891   13.495196  5.820743  4.517543  5.618008  5.929535  35.552046\n"
     ]
    }
   ],
   "source": [
    "%python\n",
    "pd.set_option('display.max_columns', None)\n",
    "pd.set_option('display.width', 200)\n",
    "churners = df_pen_portraits[df_pen_portraits['churn'] == 1]\n",
    "non_churners = df_pen_portraits[df_pen_portraits['churn'] == 0]\n",
    "print('Churners\\n',churners.drop('churn',axis=1).describe().loc[['mean', 'std']])\n",
    "print('Non-Churners\\n',non_churners.drop('churn',axis=1).describe().loc[['mean', 'std']])"
   ]
  },
  {
   "cell_type": "markdown",
   "metadata": {
    "application/vnd.databricks.v1+cell": {
     "cellMetadata": {
      "byteLimit": 2048000,
      "rowLimit": 10000
     },
     "inputWidgets": {},
     "nuid": "a412fb5b-45fd-47a5-b677-29bff9f82dc6",
     "showTitle": false,
     "tableResultSettingsMap": {},
     "title": ""
    }
   },
   "source": [
    "#### Churners\n",
    "Churners typically show declining spending behavior over time. Their average spending drops from 8.14 (lag3) and 7.94 (lag2) to 7.38 (lag1), with the lowest value being 2 in lag4, which might indicate previously low engagement that slightly increased before stopping. This pattern suggests inconsistent or unstable purchasing behavior.\n",
    "In terms of diversity (div), churners maintain moderately low diversity across time, with values ranging from 1 to 3.82, suggesting that they tend to buy fewer types of products. Their most recent diversity (div_lag1) is higher than their oldest (div_lag4), indicating an increase in product variety just before disengagement.\n",
    "Their average days between purchases (adbp) is very high at 63.41 days, further reinforcing their profile as infrequent and irregular shoppers.\n",
    "In summary, churners are customers who spend inconsistently, purchase a limited range of products, and visit the store very infrequently.\n",
    "#### Non-Churners\n",
    "Non-churners demonstrate more stable and consistent spending across time, with values increasing slightly from 5.72 (lag3) to 10.62 (lag1), and overall higher than churners at almost every point. This suggests growing or steady engagement over the recent period.\n",
    "Their product diversity is generally higher than that of churners, with values ranging from 2.57 to 4.89, and increasing as time progresses toward the most recent lags. This indicates that non-churners tend to explore or buy more varied products and may have a broader interest in the store’s offerings.\n",
    "Their adbp is significantly lower at 25.63 days, suggesting they are much more frequent shoppers than churners.\n",
    "In summary, non-churners are active, consistent shoppers who visit more often, spend regularly, and purchase a more diverse set of products."
   ]
  },
  {
   "cell_type": "markdown",
   "metadata": {
    "application/vnd.databricks.v1+cell": {
     "cellMetadata": {
      "byteLimit": 2048000,
      "rowLimit": 10000
     },
     "inputWidgets": {},
     "nuid": "ff013224-131b-4a5e-917a-87c8cbc95510",
     "showTitle": false,
     "tableResultSettingsMap": {},
     "title": ""
    }
   },
   "source": [
    "### Instructions to Run the Model"
   ]
  },
  {
   "cell_type": "code",
   "execution_count": 0,
   "metadata": {
    "application/vnd.databricks.v1+cell": {
     "cellMetadata": {
      "byteLimit": 2048000,
      "rowLimit": 10000
     },
     "inputWidgets": {},
     "nuid": "8bd37b1b-c1b4-4a28-8693-288a9c3ab28f",
     "showTitle": false,
     "tableResultSettingsMap": {},
     "title": ""
    }
   },
   "outputs": [],
   "source": [
    "RFC = RandomForestClassifier(random_state=0, n_estimators=200, max_depth=5, min_samples_split=5)\n",
    "ref_date = pd.to_datetime(\"\") # Insert the most recent data\n",
    "train_ref_date = ref_date - pd.DateOffset(months=1)\n",
    "test_ref_date = ref_date\n",
    "# Training and testing data\n",
    "X_train, y_train = get_dataset(train_ref_date, cols_drop)\n",
    "X, y = get_dataset(test_ref_date, cols_drop)\n",
    "model = RFC.fit(X_train, y_train)\n",
    "y_scores = model.predict_proba(X)[:,1] # Probability for class 1 (churn)\n",
    "threshold = 0.3 # Change threshold as needed\n",
    "y_pred_labels = (y_scores >= threshold).astype(int)"
   ]
  },
  {
   "cell_type": "code",
   "execution_count": 0,
   "metadata": {
    "application/vnd.databricks.v1+cell": {
     "cellMetadata": {
      "byteLimit": 2048000,
      "rowLimit": 10000
     },
     "inputWidgets": {},
     "nuid": "d9f8b39b-e910-4a2d-9b84-afc49322b6a3",
     "showTitle": false,
     "tableResultSettingsMap": {},
     "title": ""
    }
   },
   "outputs": [],
   "source": [
    "results = X.copy()\n",
    "results['predicted_churn'] = y_pred_labels\n",
    "results['churn_probability'] = y_scores\n",
    "\n",
    "churners = results[results.predicted_churn == 1].index\n",
    "non_churners = results[results.predicted_churn == 0].index"
   ]
  },
  {
   "cell_type": "code",
   "execution_count": 0,
   "metadata": {
    "application/vnd.databricks.v1+cell": {
     "cellMetadata": {
      "byteLimit": 2048000,
      "rowLimit": 10000
     },
     "inputWidgets": {},
     "nuid": "4eac7467-be62-4893-9ce8-9ee14956f128",
     "showTitle": false,
     "tableResultSettingsMap": {},
     "title": ""
    }
   },
   "outputs": [],
   "source": []
  }
 ],
 "metadata": {
  "application/vnd.databricks.v1+notebook": {
   "computePreferences": null,
   "dashboards": [],
   "environmentMetadata": {
    "base_environment": "",
    "environment_version": "1"
   },
   "inputWidgetPreferences": null,
   "language": "python",
   "notebookMetadata": {
    "mostRecentlyExecutedCommandWithImplicitDF": {
     "commandId": 1959173175531694,
     "dataframes": [
      "_sqldf"
     ]
    },
    "pythonIndentUnit": 4
   },
   "notebookName": "20680080_BUSI4373_2024_25",
   "widgets": {}
  }
 },
 "nbformat": 4,
 "nbformat_minor": 0
}